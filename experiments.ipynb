{
 "cells": [
  {
   "cell_type": "code",
   "execution_count": 10,
   "metadata": {},
   "outputs": [],
   "source": [
    "# importing libraries\n",
    "from langchain.llms import GooglePalm\n",
    "import os\n",
    "from dotenv import load_dotenv\n",
    "load_dotenv()\n",
    "GOOGLE_API_KEY=os.getenv(\"GOOGLE_API_KEY\")\n",
    "db_password=os.getenv(\"db_password\")"
   ]
  },
  {
   "cell_type": "code",
   "execution_count": 6,
   "metadata": {},
   "outputs": [],
   "source": [
    "# creating object of GooglePalm() class as llm\n",
    "llm=GooglePalm(\n",
    "    google_api_key=GOOGLE_API_KEY,\n",
    "    temperature=0.4\n",
    ")"
   ]
  },
  {
   "cell_type": "code",
   "execution_count": 7,
   "metadata": {},
   "outputs": [],
   "source": [
    "# importing librariess for MYSQL database\n",
    "from langchain.utilities import SQLDatabase\n",
    "from langchain_experimental.sql import SQLDatabaseChain"
   ]
  },
  {
   "cell_type": "code",
   "execution_count": 11,
   "metadata": {},
   "outputs": [],
   "source": [
    "# for database dependencies\n",
    "db_user = \"root\"\n",
    "db_password = db_password\n",
    "db_host = \"localhost\"\n",
    "db_name = \"TIMS\""
   ]
  },
  {
   "cell_type": "code",
   "execution_count": 12,
   "metadata": {},
   "outputs": [],
   "source": [
    "# calling SQLDatabase\n",
    "db = SQLDatabase.from_uri(\n",
    "    f\"mysql+pymysql://{db_user}:{db_password}@{db_host}/{db_name}\",\n",
    "    sample_rows_in_table_info=3\n",
    "    )"
   ]
  },
  {
   "cell_type": "code",
   "execution_count": null,
   "metadata": {},
   "outputs": [],
   "source": [
    "# table info\n",
    "print(db.table_info)"
   ]
  },
  {
   "cell_type": "code",
   "execution_count": null,
   "metadata": {},
   "outputs": [],
   "source": [
    "# creating object of SQLDatabaseChain\n",
    "sql_chain = SQLDatabaseChain.from_llm(llm, db, verbose=True)\n",
    "Q_01 = sql_chain.run(\"How many t-shirts do we have left for nike in extra small size and white color?\")"
   ]
  },
  {
   "cell_type": "code",
   "execution_count": null,
   "metadata": {},
   "outputs": [],
   "source": [
    "# Query-02 : The result is wrong\n",
    "Q_02 = sql_chain.run(\"How much is the price of the inventory for all small size t-shirts?\")"
   ]
  },
  {
   "cell_type": "code",
   "execution_count": null,
   "metadata": {},
   "outputs": [],
   "source": [
    "# the actual query is\n",
    "# SELECT sum(tims.product.price*tims.product.stock_quantity)\n",
    "# FROM tims.product WHERE (tims.product.size='S')\n",
    "Q_02 = sql_chain.run(\n",
    "    \"SELECT sum(tims.product.price*tims.product.stock_quantity) FROM tims.product WHERE (tims.product.size='S')\"\n",
    "    )\n"
   ]
  },
  {
   "cell_type": "code",
   "execution_count": null,
   "metadata": {},
   "outputs": [],
   "source": [
    "# Query-03  shows error\n",
    "Q_03 = sql_chain.run(\n",
    "    \"If we have to sell all the Levi’s T-shirts today with discounts applied. How much revenue our store\"\n",
    "    )"
   ]
  },
  {
   "cell_type": "code",
   "execution_count": null,
   "metadata": {},
   "outputs": [],
   "source": [
    "# Query-03: The Actual Query\n",
    "Q_03 = sql_chain.run(\n",
    "    \"\"\"SELECT sum((tims.product.price*tims.product.stock_quantity)-((tims.product.price*tims.product.stock_quantity)*(tims.discounts.pct_discount/100)))\n",
    "FROM tims.product INNER JOIN tims.discounts ON\n",
    "tims.product.pid=tims.discounts.pid\n",
    "WHERE (tims.product.brand='Levi')\"\"\"\n",
    "    )"
   ]
  },
  {
   "cell_type": "code",
   "execution_count": null,
   "metadata": {},
   "outputs": [],
   "source": []
  }
 ],
 "metadata": {
  "kernelspec": {
   "display_name": "myenv",
   "language": "python",
   "name": "python3"
  },
  "language_info": {
   "codemirror_mode": {
    "name": "ipython",
    "version": 3
   },
   "file_extension": ".py",
   "mimetype": "text/x-python",
   "name": "python",
   "nbconvert_exporter": "python",
   "pygments_lexer": "ipython3",
   "version": "3.10.4"
  }
 },
 "nbformat": 4,
 "nbformat_minor": 2
}
